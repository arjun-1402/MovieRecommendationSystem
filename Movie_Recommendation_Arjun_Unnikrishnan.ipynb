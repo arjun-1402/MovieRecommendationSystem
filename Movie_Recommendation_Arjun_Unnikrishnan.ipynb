{
 "cells": [
  {
   "cell_type": "markdown",
   "id": "09834bd7",
   "metadata": {},
   "source": [
    "# 🎬 Movie Recommendation System\n",
    "**By Arjun Unnikrishnan**"
   ]
  },
  {
   "cell_type": "markdown",
   "id": "cfc947ae",
   "metadata": {},
   "source": [
    "## 📌 Objective\n",
    "Suggest movies based on user preferences using Machine Learning techniques."
   ]
  },
  {
   "cell_type": "markdown",
   "id": "8b0a4fb9",
   "metadata": {},
   "source": [
    "## 🛠️ Tools Used\n",
    "- Python\n",
    "- Pandas\n",
    "- Scikit-learn\n",
    "- Streamlit"
   ]
  },
  {
   "cell_type": "markdown",
   "id": "2d910776",
   "metadata": {},
   "source": [
    "## 📂 Dataset\n",
    "Using the [MovieLens 100k dataset](https://grouplens.org/datasets/movielens/100k/) which includes:\n",
    "- u.data: Ratings (userID, movieID, rating, timestamp)\n",
    "- u.item: Movie info (movieID, title, genres)\n",
    "- u.user: User details"
   ]
  },
  {
   "cell_type": "code",
   "execution_count": null,
   "id": "6c115fc1",
   "metadata": {},
   "outputs": [],
   "source": [
    "import pandas as pd\n",
    "\n",
    "# Load datasets\n",
    "ratings = pd.read_csv(\"u.data\", sep=\"\\t\", names=[\"user_id\", \"item_id\", \"rating\", \"timestamp\"])\n",
    "movies = pd.read_csv(\"u.item\", sep=\"|\", encoding=\"latin-1\", header=None, usecols=[0, 1], names=[\"item_id\", \"title\"])\n",
    "\n",
    "# Merge data\n",
    "df = pd.merge(ratings, movies, on=\"item_id\")\n",
    "df.head()"
   ]
  },
  {
   "cell_type": "code",
   "execution_count": null,
   "id": "242b7402",
   "metadata": {},
   "outputs": [],
   "source": [
    "movie_matrix = df.pivot_table(index='user_id', columns='title', values='rating')\n",
    "movie_matrix.head()"
   ]
  },
  {
   "cell_type": "code",
   "execution_count": null,
   "id": "e3326980",
   "metadata": {},
   "outputs": [],
   "source": [
    "def get_similar_movies(movie_name, min_ratings=50):\n",
    "    movie_ratings = movie_matrix[movie_name]\n",
    "    similar_movies = movie_matrix.corrwith(movie_ratings)\n",
    "    corr_df = pd.DataFrame(similar_movies, columns=['Correlation'])\n",
    "    corr_df.dropna(inplace=True)\n",
    "    corr_df = corr_df.join(df.groupby('title')['rating'].count())\n",
    "    corr_df = corr_df[corr_df['rating'] > min_ratings].sort_values('Correlation', ascending=False)\n",
    "    return corr_df.head(5)\n",
    "\n",
    "get_similar_movies(\"Star Wars (1977)\")"
   ]
  },
  {
   "cell_type": "markdown",
   "id": "7377728f",
   "metadata": {},
   "source": [
    "## 🌐 Streamlit App Code (for deployment)\n",
    "```python\n",
    "import streamlit as st\n",
    "\n",
    "st.title('🎬 Movie Recommender System')\n",
    "movie_list = movie_matrix.columns.tolist()\n",
    "movie = st.selectbox('Select a movie:', movie_list)\n",
    "if st.button('Recommend'):\n",
    "    recommendations = get_similar_movies(movie)\n",
    "    st.dataframe(recommendations)\n",
    "```"
   ]
  },
  {
   "cell_type": "markdown",
   "id": "8a843e8f",
   "metadata": {},
   "source": [
    "## ✅ Conclusion\n",
    "This mini project uses collaborative filtering on the MovieLens dataset to recommend similar movies. It gives a quick idea of how user preferences and item similarity can drive recommendations.\n",
    "\n",
    "## 🚀 Future Scope\n",
    "- Integrate content-based filtering using genres and tags\n",
    "- Add NLP-based sentiment analysis from reviews\n",
    "- Deploy a full-featured web app using Streamlit or Flask"
   ]
  }
 ],
 "metadata": {},
 "nbformat": 4,
 "nbformat_minor": 5
}